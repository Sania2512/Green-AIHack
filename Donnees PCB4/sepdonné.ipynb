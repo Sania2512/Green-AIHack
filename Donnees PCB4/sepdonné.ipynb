{
 "cells": [
  {
   "cell_type": "code",
   "execution_count": 9,
   "metadata": {},
   "outputs": [
    {
     "name": "stderr",
     "output_type": "stream",
     "text": [
      "<>:6: SyntaxWarning: invalid escape sequence '\\D'\n",
      "<>:6: SyntaxWarning: invalid escape sequence '\\D'\n",
      "C:\\Users\\xadee\\AppData\\Local\\Temp\\ipykernel_49760\\1476787797.py:6: SyntaxWarning: invalid escape sequence '\\D'\n",
      "  source_dir = \"Donnees PCB4\\\\pcb4\\Data\\\\Images\\\\Normal\\\\normal\"\n",
      "C:\\Users\\xadee\\AppData\\Local\\Temp\\ipykernel_49760\\1476787797.py:6: SyntaxWarning: invalid escape sequence '\\D'\n",
      "  source_dir = \"Donnees PCB4\\\\pcb4\\Data\\\\Images\\\\Normal\\\\normal\"\n"
     ]
    },
    {
     "ename": "FileNotFoundError",
     "evalue": "[WinError 3] Le chemin d’accès spécifié est introuvable: 'Donnees PCB4\\\\pcb4\\\\Data\\\\Images\\\\Normal\\\\normal'",
     "output_type": "error",
     "traceback": [
      "\u001b[1;31m---------------------------------------------------------------------------\u001b[0m",
      "\u001b[1;31mFileNotFoundError\u001b[0m                         Traceback (most recent call last)",
      "Cell \u001b[1;32mIn[9], line 20\u001b[0m\n\u001b[0;32m     16\u001b[0m os\u001b[38;5;241m.\u001b[39mmakedirs(test_dir,  exist_ok\u001b[38;5;241m=\u001b[39m\u001b[38;5;28;01mTrue\u001b[39;00m)\n\u001b[0;32m     18\u001b[0m \u001b[38;5;66;03m# 4. Lister toutes les images avec extensions reconnues\u001b[39;00m\n\u001b[0;32m     19\u001b[0m all_images \u001b[38;5;241m=\u001b[39m [\n\u001b[1;32m---> 20\u001b[0m     f \u001b[38;5;28;01mfor\u001b[39;00m f \u001b[38;5;129;01min\u001b[39;00m \u001b[43mos\u001b[49m\u001b[38;5;241;43m.\u001b[39;49m\u001b[43mlistdir\u001b[49m\u001b[43m(\u001b[49m\u001b[43msource_dir\u001b[49m\u001b[43m)\u001b[49m\n\u001b[0;32m     21\u001b[0m     \u001b[38;5;28;01mif\u001b[39;00m f\u001b[38;5;241m.\u001b[39mlower()\u001b[38;5;241m.\u001b[39mendswith((\u001b[38;5;124m\"\u001b[39m\u001b[38;5;124m.jpg\u001b[39m\u001b[38;5;124m\"\u001b[39m, \u001b[38;5;124m\"\u001b[39m\u001b[38;5;124m.jpeg\u001b[39m\u001b[38;5;124m\"\u001b[39m, \u001b[38;5;124m\"\u001b[39m\u001b[38;5;124m.png\u001b[39m\u001b[38;5;124m\"\u001b[39m))\n\u001b[0;32m     22\u001b[0m ]\n\u001b[0;32m     24\u001b[0m \u001b[38;5;66;03m# 5. Mélanger la liste pour un split aléatoire\u001b[39;00m\n\u001b[0;32m     25\u001b[0m random\u001b[38;5;241m.\u001b[39mshuffle(all_images)\n",
      "\u001b[1;31mFileNotFoundError\u001b[0m: [WinError 3] Le chemin d’accès spécifié est introuvable: 'Donnees PCB4\\\\pcb4\\\\Data\\\\Images\\\\Normal\\\\normal'"
     ]
    }
   ],
   "source": [
    "import os\n",
    "import shutil\n",
    "import random\n",
    "\n",
    "# 1. Chemin source : dossier contenant toutes les images\n",
    "source_dir = \"Donnees PCB4\\\\pcb4\\Data\\\\Images\\\\Normal\\\\normal\"\n",
    "\n",
    "# 2. Dossiers cibles (avec sous-dossier 'normal')\n",
    "train_dir = \"dataset_split\\\\train\\\\normal\"\n",
    "val_dir   = \"dataset_split\\\\val\\\\normal\"\n",
    "test_dir  = \"dataset_split\\\\test\\\\normal\"\n",
    "\n",
    "# 3. Créer les dossiers s'ils n'existent pas déjà\n",
    "os.makedirs(train_dir, exist_ok=True)\n",
    "os.makedirs(val_dir,   exist_ok=True)\n",
    "os.makedirs(test_dir,  exist_ok=True)\n",
    "\n",
    "# 4. Lister toutes les images avec extensions reconnues\n",
    "all_images = [\n",
    "    f for f in os.listdir(source_dir)\n",
    "    if f.lower().endswith((\".jpg\", \".jpeg\", \".png\"))\n",
    "]\n",
    "\n",
    "# 5. Mélanger la liste pour un split aléatoire\n",
    "random.shuffle(all_images)\n",
    "\n",
    "# 6. Définir les proportions\n",
    "train_ratio = 0.7\n",
    "val_ratio   = 0.2\n",
    "test_ratio  = 0.1\n",
    "\n",
    "total = len(all_images)\n",
    "train_count = int(train_ratio * total)\n",
    "val_count   = int(val_ratio * total)\n",
    "test_count  = total - train_count - val_count  # pour gérer l'arrondi\n",
    "\n",
    "# 7. Découper la liste\n",
    "train_files = all_images[:train_count]\n",
    "val_files   = all_images[train_count:train_count+val_count]\n",
    "test_files  = all_images[train_count+val_count:]\n",
    "\n",
    "print(f\"Total images: {total}\")\n",
    "print(f\"Train: {len(train_files)}, Val: {len(val_files)}, Test: {len(test_files)}\")\n",
    "\n",
    "# 8. Copier les fichiers dans les bons dossiers\n",
    "for f in train_files:\n",
    "    shutil.copy(os.path.join(source_dir, f), os.path.join(train_dir, f))\n",
    "\n",
    "for f in val_files:\n",
    "    shutil.copy(os.path.join(source_dir, f), os.path.join(val_dir, f))\n",
    "\n",
    "for f in test_files:\n",
    "    shutil.copy(os.path.join(source_dir, f), os.path.join(test_dir, f))\n",
    "\n",
    "print(\"Done splitting!\")\n"
   ]
  }
 ],
 "metadata": {
  "kernelspec": {
   "display_name": "Python 3",
   "language": "python",
   "name": "python3"
  },
  "language_info": {
   "codemirror_mode": {
    "name": "ipython",
    "version": 3
   },
   "file_extension": ".py",
   "mimetype": "text/x-python",
   "name": "python",
   "nbconvert_exporter": "python",
   "pygments_lexer": "ipython3",
   "version": "3.12.6"
  }
 },
 "nbformat": 4,
 "nbformat_minor": 2
}
